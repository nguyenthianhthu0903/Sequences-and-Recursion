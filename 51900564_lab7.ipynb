{
  "nbformat": 4,
  "nbformat_minor": 0,
  "metadata": {
    "colab": {
      "provenance": [],
      "authorship_tag": "ABX9TyMqwmajGnKlwUSqhGc2SQ+H",
      "include_colab_link": true
    },
    "kernelspec": {
      "name": "python3",
      "display_name": "Python 3"
    },
    "language_info": {
      "name": "python"
    }
  },
  "cells": [
    {
      "cell_type": "markdown",
      "metadata": {
        "id": "view-in-github",
        "colab_type": "text"
      },
      "source": [
        "<a href=\"https://colab.research.google.com/github/nguyenthianhthu0903/Sequences-and-Recursion/blob/main/51900564_lab7.ipynb\" target=\"_parent\"><img src=\"https://colab.research.google.com/assets/colab-badge.svg\" alt=\"Open In Colab\"/></a>"
      ]
    },
    {
      "cell_type": "code",
      "metadata": {
        "colab": {
          "base_uri": "https://localhost:8080/"
        },
        "id": "Zh3LWy_Xmpa4",
        "outputId": "b4e7e96a-4252-41ee-9324-975ea7b29b7a"
      },
      "source": [
        "print(\"Cau 1: \")\n",
        "def thieves(x):\n",
        "\tsum = x\n",
        "\tif x == 1:\n",
        "\t\treturn 1\n",
        "\telif x == 2:\n",
        "\t\treturn 2\n",
        "\telse:\n",
        "\t\tfor i in range(1, x):\n",
        "\t\t\tsum += thieves(i)\n",
        "\treturn sum\n",
        "\n",
        "def countDay():\n",
        "\tcount = 0\n",
        "\tn = 40\n",
        "\twhile (n>0):\n",
        "\t\tcount += 1\n",
        "\t\tn -= thieves(count)\n",
        "\treturn count\n",
        "print(countDay())\n",
        "\n"
      ],
      "execution_count": null,
      "outputs": [
        {
          "output_type": "stream",
          "name": "stdout",
          "text": [
            "Cau 1: \n",
            "5\n"
          ]
        }
      ]
    },
    {
      "cell_type": "code",
      "metadata": {
        "colab": {
          "base_uri": "https://localhost:8080/"
        },
        "id": "5O9NcARgZHka",
        "outputId": "73769ec0-19c8-4bdd-8c46-b685653ff602"
      },
      "source": [
        "print(\"Cau 2: \")\n",
        "coins = [1,2,3,6,4]\n",
        "def Max(coins,n):\n",
        "\tif (n == 0):\n",
        "\t\treturn -1\n",
        "\tif (n == 1):\n",
        "\t\treturn coins[0]\n",
        "\telse:\n",
        "\t\tif (coins[n - 1] > Max(coins, n - 1)):\n",
        "\t\t\treturn coins[n - 1];\n",
        "\t\telse:\n",
        "\t\t\treturn Max(coins, n - 1)\n",
        "print(\"Nguoi giau nhat: \",Max(coins,len(coins)))"
      ],
      "execution_count": null,
      "outputs": [
        {
          "output_type": "stream",
          "name": "stdout",
          "text": [
            "Cau 2: \n",
            "Nguoi giau nhat:  6\n"
          ]
        }
      ]
    },
    {
      "cell_type": "code",
      "metadata": {
        "colab": {
          "base_uri": "https://localhost:8080/"
        },
        "id": "OaYipRpmqi5G",
        "outputId": "b89c80ac-d422-4dd8-f225-27dabc737b8c"
      },
      "source": [
        "print('Cau 2:')\n",
        "def richest(n):\n",
        "\tif len(n) ==1:\n",
        "\t\treturn n[0]\n",
        "\treturn max(richest(n[1:]),n[0])\n",
        "print(richest([23,52,34,50]))\n"
      ],
      "execution_count": null,
      "outputs": [
        {
          "output_type": "stream",
          "name": "stdout",
          "text": [
            "Cau 2:\n",
            "52\n"
          ]
        }
      ]
    },
    {
      "cell_type": "code",
      "metadata": {
        "id": "VZ6kBRi42VJg",
        "colab": {
          "base_uri": "https://localhost:8080/"
        },
        "outputId": "ba74c5c2-23bb-46d3-bf47-733a6c773345"
      },
      "source": [
        "def waytochoose(n,k):\n",
        "    if(k==0 or k ==n):\n",
        "        return 1\n",
        "    else:\n",
        "        return waytochoose(n-1,k)+waytochoose(n-1,k-1)\n",
        "i=1\n",
        "while waytochoose(50,i)<1000:\n",
        "    i+=1\n",
        "if(waytochoose(50,i)<1000):\n",
        "    j=i+1\n",
        "j=i-1\n",
        "if(abs(1000-waytochoose(50,i))<abs(1000-waytochoose(50,j))):\n",
        "    print(\"Gia tri gan nhat la: \",i)\n",
        "else:\n",
        "    print(\"Gia tri gan nhat la: \",j)"
      ],
      "execution_count": null,
      "outputs": [
        {
          "output_type": "stream",
          "name": "stdout",
          "text": [
            "Gia tri gan nhat la:  2\n"
          ]
        }
      ]
    },
    {
      "cell_type": "code",
      "metadata": {
        "id": "licymm3nIZyH"
      },
      "source": [
        "print(\"Cau 3: \")\n",
        "def waytochoose(n,k):\n",
        "    if(k==0 or k ==n):\n",
        "        return 1\n",
        "    else:\n",
        "        return waytochoose(n-1,k)+waytochoose(n-1,k-1)\n",
        "i=1\n",
        "while waytochoose(50,i)<1000:\n",
        "    i+=1\n",
        "if(waytochoose(50,i)<1000):\n",
        "    j=i+1\n",
        "j=i-1\n",
        "if(abs(1000-waytochoose(50,i))<abs(1000-waytochoose(50,j))):\n",
        "    print(\"Gia tri gan nhat la: \",i)\n",
        "else:\n",
        "    print(\"Gia tri gan nhat la: \",j)\n"
      ],
      "execution_count": null,
      "outputs": []
    },
    {
      "cell_type": "code",
      "metadata": {
        "colab": {
          "base_uri": "https://localhost:8080/"
        },
        "id": "iD5z-B69IkfU",
        "outputId": "68134a83-fe51-4cca-b2a9-ed935e1c5c39"
      },
      "source": [
        "print(\"Cau 4: \")\n",
        "def waytochooseP(n,k):\n",
        "    fact = [0 for i in range(n + 1)] \n",
        "    fact[0] = 1\n",
        "    for i in range(1, n + 1): \n",
        "        fact[i] = i * fact[i - 1] \n",
        "    return int(fact[n] / fact[n - k])\n",
        "i=1\n",
        "while waytochooseP(50,i)<10000:\n",
        "    i+=1\n",
        "if(waytochooseP(50,i)<10000):\n",
        "    j=i+1\n",
        "j=i-1\n",
        "if(abs(10000-waytochooseP(50,i))<abs(10000-waytochooseP(50,j))):\n",
        "    print(\"Gia tri gan nhat la: \",i)\n",
        "else:\n",
        "    print(\"Gia tri gan nhat la: \",j)"
      ],
      "execution_count": null,
      "outputs": [
        {
          "output_type": "stream",
          "name": "stdout",
          "text": [
            "Cau 4: \n",
            "Gia tri gan nhat la:  2\n"
          ]
        }
      ]
    },
    {
      "cell_type": "code",
      "metadata": {
        "colab": {
          "base_uri": "https://localhost:8080/"
        },
        "id": "oyDvwNDIIwXh",
        "outputId": "a9a5cee0-c5ff-4892-94f5-b4c8904b1802"
      },
      "source": [
        "print(\"Cau 5: \")\n",
        "def sum(n):\n",
        "    if(n==0):\n",
        "        return 0\n",
        "    return 2*(n-1)+sum(n-1)\n",
        "print(sum(4))"
      ],
      "execution_count": null,
      "outputs": [
        {
          "output_type": "stream",
          "name": "stdout",
          "text": [
            "Cau 5: \n",
            "12\n"
          ]
        }
      ]
    },
    {
      "cell_type": "code",
      "metadata": {
        "colab": {
          "base_uri": "https://localhost:8080/"
        },
        "id": "sTR2axnmIyoj",
        "outputId": "831ef479-1862-45cc-f4f0-68905d1ef94f"
      },
      "source": [
        "print(\"Cau 6: \")\n",
        "def Fibonacci(n):\n",
        "    if n<=0:\n",
        "        print(\"Incorrect input\")\n",
        "    elif n==1:\n",
        "        return 0\n",
        "    elif n==2:\n",
        "        return 1\n",
        "    else:\n",
        "        return Fibonacci(n-1)+Fibonacci(n-2)\n",
        "print(Fibonacci(10))"
      ],
      "execution_count": null,
      "outputs": [
        {
          "output_type": "stream",
          "name": "stdout",
          "text": [
            "Cau 6: \n",
            "34\n"
          ]
        }
      ]
    },
    {
      "cell_type": "code",
      "metadata": {
        "colab": {
          "base_uri": "https://localhost:8080/"
        },
        "id": "zbEV-tDgI09g",
        "outputId": "8e461666-24e3-49d5-816d-47352ca53b4d"
      },
      "source": [
        "print(\"Cau 7: \")\n",
        "def towerOfHanoi(n , source, destination, auxiliary): \n",
        "\tif n==1: \n",
        "\t\tprint (\"Dick 1\",source,\"-->\",destination) \n",
        "\t\treturn\n",
        "\ttowerOfHanoi(n-1, source, auxiliary, destination) \n",
        "\tprint(\"Dick\",n,source,\"-->\",destination)\n",
        "\ttowerOfHanoi(n-1, auxiliary, destination, source) \n",
        "towerOfHanoi(3,'A','B','C') "
      ],
      "execution_count": null,
      "outputs": [
        {
          "output_type": "stream",
          "name": "stdout",
          "text": [
            "Cau 7: \n",
            "Dick 1 A --> B\n",
            "Dick 2 A --> C\n",
            "Dick 1 B --> C\n",
            "Dick 3 A --> B\n",
            "Dick 1 C --> A\n",
            "Dick 2 C --> B\n",
            "Dick 1 A --> B\n"
          ]
        }
      ]
    }
  ]
}